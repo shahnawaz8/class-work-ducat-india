{
 "cells": [
  {
   "cell_type": "code",
   "execution_count": 1,
   "metadata": {},
   "outputs": [],
   "source": [
    "import pandas as pd\n",
    "import numpy as np"
   ]
  },
  {
   "cell_type": "code",
   "execution_count": 67,
   "metadata": {},
   "outputs": [
    {
     "data": {
      "text/plain": [
       "DatetimeIndex(['2019-09-24', '2019-09-25', '2019-09-26', '2019-09-27'], dtype='datetime64[ns]', freq='D')"
      ]
     },
     "execution_count": 67,
     "metadata": {},
     "output_type": "execute_result"
    }
   ],
   "source": [
    "dates=pd.date_range('20190924',periods=4)\n",
    "dates"
   ]
  },
  {
   "cell_type": "code",
   "execution_count": 15,
   "metadata": {},
   "outputs": [],
   "source": [
    "df=pd.DataFrame(np.random.randn(6,4),index=dates,columns=list('ABCD'))"
   ]
  },
  {
   "cell_type": "code",
   "execution_count": 16,
   "metadata": {},
   "outputs": [
    {
     "data": {
      "text/html": [
       "<div>\n",
       "<style scoped>\n",
       "    .dataframe tbody tr th:only-of-type {\n",
       "        vertical-align: middle;\n",
       "    }\n",
       "\n",
       "    .dataframe tbody tr th {\n",
       "        vertical-align: top;\n",
       "    }\n",
       "\n",
       "    .dataframe thead th {\n",
       "        text-align: right;\n",
       "    }\n",
       "</style>\n",
       "<table border=\"1\" class=\"dataframe\">\n",
       "  <thead>\n",
       "    <tr style=\"text-align: right;\">\n",
       "      <th></th>\n",
       "      <th>A</th>\n",
       "      <th>B</th>\n",
       "      <th>C</th>\n",
       "      <th>D</th>\n",
       "    </tr>\n",
       "  </thead>\n",
       "  <tbody>\n",
       "    <tr>\n",
       "      <td>2019-09-24</td>\n",
       "      <td>0.898643</td>\n",
       "      <td>1.108262</td>\n",
       "      <td>-0.083346</td>\n",
       "      <td>-1.621664</td>\n",
       "    </tr>\n",
       "    <tr>\n",
       "      <td>2019-09-25</td>\n",
       "      <td>-0.424143</td>\n",
       "      <td>0.802146</td>\n",
       "      <td>1.072711</td>\n",
       "      <td>0.513634</td>\n",
       "    </tr>\n",
       "    <tr>\n",
       "      <td>2019-09-26</td>\n",
       "      <td>0.488902</td>\n",
       "      <td>-0.198709</td>\n",
       "      <td>0.082764</td>\n",
       "      <td>0.774385</td>\n",
       "    </tr>\n",
       "    <tr>\n",
       "      <td>2019-09-27</td>\n",
       "      <td>-0.058485</td>\n",
       "      <td>-1.145670</td>\n",
       "      <td>0.521298</td>\n",
       "      <td>0.618269</td>\n",
       "    </tr>\n",
       "    <tr>\n",
       "      <td>2019-09-28</td>\n",
       "      <td>1.739448</td>\n",
       "      <td>0.479271</td>\n",
       "      <td>-0.928745</td>\n",
       "      <td>-0.118071</td>\n",
       "    </tr>\n",
       "    <tr>\n",
       "      <td>2019-09-29</td>\n",
       "      <td>-2.397474</td>\n",
       "      <td>0.711838</td>\n",
       "      <td>0.866692</td>\n",
       "      <td>0.606681</td>\n",
       "    </tr>\n",
       "  </tbody>\n",
       "</table>\n",
       "</div>"
      ],
      "text/plain": [
       "                   A         B         C         D\n",
       "2019-09-24  0.898643  1.108262 -0.083346 -1.621664\n",
       "2019-09-25 -0.424143  0.802146  1.072711  0.513634\n",
       "2019-09-26  0.488902 -0.198709  0.082764  0.774385\n",
       "2019-09-27 -0.058485 -1.145670  0.521298  0.618269\n",
       "2019-09-28  1.739448  0.479271 -0.928745 -0.118071\n",
       "2019-09-29 -2.397474  0.711838  0.866692  0.606681"
      ]
     },
     "execution_count": 16,
     "metadata": {},
     "output_type": "execute_result"
    }
   ],
   "source": [
    "df"
   ]
  },
  {
   "cell_type": "code",
   "execution_count": 26,
   "metadata": {},
   "outputs": [
    {
     "data": {
      "text/html": [
       "<div>\n",
       "<style scoped>\n",
       "    .dataframe tbody tr th:only-of-type {\n",
       "        vertical-align: middle;\n",
       "    }\n",
       "\n",
       "    .dataframe tbody tr th {\n",
       "        vertical-align: top;\n",
       "    }\n",
       "\n",
       "    .dataframe thead th {\n",
       "        text-align: right;\n",
       "    }\n",
       "</style>\n",
       "<table border=\"1\" class=\"dataframe\">\n",
       "  <thead>\n",
       "    <tr style=\"text-align: right;\">\n",
       "      <th></th>\n",
       "      <th>A</th>\n",
       "      <th>B</th>\n",
       "      <th>C</th>\n",
       "      <th>D</th>\n",
       "      <th>E</th>\n",
       "      <th>F</th>\n",
       "    </tr>\n",
       "  </thead>\n",
       "  <tbody>\n",
       "    <tr>\n",
       "      <td>0</td>\n",
       "      <td>1.0</td>\n",
       "      <td>2019-09-24</td>\n",
       "      <td>1.0</td>\n",
       "      <td>3</td>\n",
       "      <td>test</td>\n",
       "      <td>-1</td>\n",
       "    </tr>\n",
       "    <tr>\n",
       "      <td>1</td>\n",
       "      <td>1.0</td>\n",
       "      <td>2019-09-24</td>\n",
       "      <td>1.0</td>\n",
       "      <td>3</td>\n",
       "      <td>train</td>\n",
       "      <td>-1</td>\n",
       "    </tr>\n",
       "    <tr>\n",
       "      <td>2</td>\n",
       "      <td>1.0</td>\n",
       "      <td>2019-09-24</td>\n",
       "      <td>1.0</td>\n",
       "      <td>3</td>\n",
       "      <td>test</td>\n",
       "      <td>-1</td>\n",
       "    </tr>\n",
       "    <tr>\n",
       "      <td>3</td>\n",
       "      <td>1.0</td>\n",
       "      <td>2019-09-24</td>\n",
       "      <td>1.0</td>\n",
       "      <td>3</td>\n",
       "      <td>train</td>\n",
       "      <td>-1</td>\n",
       "    </tr>\n",
       "  </tbody>\n",
       "</table>\n",
       "</div>"
      ],
      "text/plain": [
       "     A          B    C  D      E  F\n",
       "0  1.0 2019-09-24  1.0  3   test -1\n",
       "1  1.0 2019-09-24  1.0  3  train -1\n",
       "2  1.0 2019-09-24  1.0  3   test -1\n",
       "3  1.0 2019-09-24  1.0  3  train -1"
      ]
     },
     "execution_count": 26,
     "metadata": {},
     "output_type": "execute_result"
    }
   ],
   "source": [
    "df2=pd.DataFrame({'A':1.,'B':pd.Timestamp('20190924'),'C':pd.Series(1,index=list(range(4)),dtype='float32') ,'D':np.array([3]*4,dtype='int32'),'E':pd.Categorical([\"test\",\"train\",\"test\",\"train\"]),'F':-1})\n",
    "\n",
    "df2"
   ]
  },
  {
   "cell_type": "code",
   "execution_count": 27,
   "metadata": {},
   "outputs": [
    {
     "data": {
      "text/plain": [
       "Int64Index([0, 1, 2, 3], dtype='int64')"
      ]
     },
     "execution_count": 27,
     "metadata": {},
     "output_type": "execute_result"
    }
   ],
   "source": [
    "df2.index"
   ]
  },
  {
   "cell_type": "code",
   "execution_count": 29,
   "metadata": {},
   "outputs": [
    {
     "data": {
      "text/plain": [
       "Int64Index([0, 1, 2, 3], dtype='int64')"
      ]
     },
     "execution_count": 29,
     "metadata": {},
     "output_type": "execute_result"
    }
   ],
   "source": [
    "df2.index"
   ]
  },
  {
   "cell_type": "code",
   "execution_count": 30,
   "metadata": {},
   "outputs": [
    {
     "data": {
      "text/plain": [
       "Index(['A', 'B', 'C', 'D'], dtype='object')"
      ]
     },
     "execution_count": 30,
     "metadata": {},
     "output_type": "execute_result"
    }
   ],
   "source": [
    "df.columns"
   ]
  },
  {
   "cell_type": "code",
   "execution_count": 33,
   "metadata": {},
   "outputs": [
    {
     "data": {
      "text/plain": [
       "array([[ 0.89864252,  1.1082623 , -0.08334603, -1.62166353],\n",
       "       [-0.42414305,  0.80214566,  1.07271135,  0.5136342 ],\n",
       "       [ 0.48890183, -0.19870927,  0.082764  ,  0.77438509],\n",
       "       [-0.05848544, -1.14566966,  0.52129825,  0.61826919],\n",
       "       [ 1.73944769,  0.479271  , -0.92874537, -0.11807063],\n",
       "       [-2.3974741 ,  0.71183819,  0.86669198,  0.60668062]])"
      ]
     },
     "execution_count": 33,
     "metadata": {},
     "output_type": "execute_result"
    }
   ],
   "source": [
    "df.values"
   ]
  },
  {
   "cell_type": "code",
   "execution_count": 34,
   "metadata": {},
   "outputs": [
    {
     "data": {
      "text/plain": [
       "A    0.215208\n",
       "B    0.595555\n",
       "C    0.302031\n",
       "D    0.560157\n",
       "Name: 0.5, dtype: float64"
      ]
     },
     "execution_count": 34,
     "metadata": {},
     "output_type": "execute_result"
    }
   ],
   "source": [
    "df.quantile()"
   ]
  },
  {
   "cell_type": "code",
   "execution_count": 37,
   "metadata": {},
   "outputs": [
    {
     "data": {
      "text/html": [
       "<div>\n",
       "<style scoped>\n",
       "    .dataframe tbody tr th:only-of-type {\n",
       "        vertical-align: middle;\n",
       "    }\n",
       "\n",
       "    .dataframe tbody tr th {\n",
       "        vertical-align: top;\n",
       "    }\n",
       "\n",
       "    .dataframe thead th {\n",
       "        text-align: right;\n",
       "    }\n",
       "</style>\n",
       "<table border=\"1\" class=\"dataframe\">\n",
       "  <thead>\n",
       "    <tr style=\"text-align: right;\">\n",
       "      <th></th>\n",
       "      <th>2019-09-24</th>\n",
       "      <th>2019-09-25</th>\n",
       "      <th>2019-09-26</th>\n",
       "      <th>2019-09-27</th>\n",
       "      <th>2019-09-28</th>\n",
       "      <th>2019-09-29</th>\n",
       "    </tr>\n",
       "  </thead>\n",
       "  <tbody>\n",
       "    <tr>\n",
       "      <td>A</td>\n",
       "      <td>0.898643</td>\n",
       "      <td>-0.424143</td>\n",
       "      <td>0.488902</td>\n",
       "      <td>-0.058485</td>\n",
       "      <td>1.739448</td>\n",
       "      <td>-2.397474</td>\n",
       "    </tr>\n",
       "    <tr>\n",
       "      <td>B</td>\n",
       "      <td>1.108262</td>\n",
       "      <td>0.802146</td>\n",
       "      <td>-0.198709</td>\n",
       "      <td>-1.145670</td>\n",
       "      <td>0.479271</td>\n",
       "      <td>0.711838</td>\n",
       "    </tr>\n",
       "    <tr>\n",
       "      <td>C</td>\n",
       "      <td>-0.083346</td>\n",
       "      <td>1.072711</td>\n",
       "      <td>0.082764</td>\n",
       "      <td>0.521298</td>\n",
       "      <td>-0.928745</td>\n",
       "      <td>0.866692</td>\n",
       "    </tr>\n",
       "    <tr>\n",
       "      <td>D</td>\n",
       "      <td>-1.621664</td>\n",
       "      <td>0.513634</td>\n",
       "      <td>0.774385</td>\n",
       "      <td>0.618269</td>\n",
       "      <td>-0.118071</td>\n",
       "      <td>0.606681</td>\n",
       "    </tr>\n",
       "  </tbody>\n",
       "</table>\n",
       "</div>"
      ],
      "text/plain": [
       "   2019-09-24  2019-09-25  2019-09-26  2019-09-27  2019-09-28  2019-09-29\n",
       "A    0.898643   -0.424143    0.488902   -0.058485    1.739448   -2.397474\n",
       "B    1.108262    0.802146   -0.198709   -1.145670    0.479271    0.711838\n",
       "C   -0.083346    1.072711    0.082764    0.521298   -0.928745    0.866692\n",
       "D   -1.621664    0.513634    0.774385    0.618269   -0.118071    0.606681"
      ]
     },
     "execution_count": 37,
     "metadata": {},
     "output_type": "execute_result"
    }
   ],
   "source": [
    "df.T # Transpose of the data"
   ]
  },
  {
   "cell_type": "code",
   "execution_count": 41,
   "metadata": {},
   "outputs": [
    {
     "data": {
      "text/html": [
       "<div>\n",
       "<style scoped>\n",
       "    .dataframe tbody tr th:only-of-type {\n",
       "        vertical-align: middle;\n",
       "    }\n",
       "\n",
       "    .dataframe tbody tr th {\n",
       "        vertical-align: top;\n",
       "    }\n",
       "\n",
       "    .dataframe thead th {\n",
       "        text-align: right;\n",
       "    }\n",
       "</style>\n",
       "<table border=\"1\" class=\"dataframe\">\n",
       "  <thead>\n",
       "    <tr style=\"text-align: right;\">\n",
       "      <th></th>\n",
       "      <th>A</th>\n",
       "      <th>B</th>\n",
       "      <th>C</th>\n",
       "      <th>D</th>\n",
       "    </tr>\n",
       "  </thead>\n",
       "  <tbody>\n",
       "    <tr>\n",
       "      <td>2019-09-24</td>\n",
       "      <td>0.898643</td>\n",
       "      <td>1.108262</td>\n",
       "      <td>-0.083346</td>\n",
       "      <td>-1.621664</td>\n",
       "    </tr>\n",
       "    <tr>\n",
       "      <td>2019-09-25</td>\n",
       "      <td>-0.424143</td>\n",
       "      <td>0.802146</td>\n",
       "      <td>1.072711</td>\n",
       "      <td>0.513634</td>\n",
       "    </tr>\n",
       "    <tr>\n",
       "      <td>2019-09-26</td>\n",
       "      <td>0.488902</td>\n",
       "      <td>-0.198709</td>\n",
       "      <td>0.082764</td>\n",
       "      <td>0.774385</td>\n",
       "    </tr>\n",
       "    <tr>\n",
       "      <td>2019-09-27</td>\n",
       "      <td>-0.058485</td>\n",
       "      <td>-1.145670</td>\n",
       "      <td>0.521298</td>\n",
       "      <td>0.618269</td>\n",
       "    </tr>\n",
       "    <tr>\n",
       "      <td>2019-09-28</td>\n",
       "      <td>1.739448</td>\n",
       "      <td>0.479271</td>\n",
       "      <td>-0.928745</td>\n",
       "      <td>-0.118071</td>\n",
       "    </tr>\n",
       "    <tr>\n",
       "      <td>2019-09-29</td>\n",
       "      <td>-2.397474</td>\n",
       "      <td>0.711838</td>\n",
       "      <td>0.866692</td>\n",
       "      <td>0.606681</td>\n",
       "    </tr>\n",
       "  </tbody>\n",
       "</table>\n",
       "</div>"
      ],
      "text/plain": [
       "                   A         B         C         D\n",
       "2019-09-24  0.898643  1.108262 -0.083346 -1.621664\n",
       "2019-09-25 -0.424143  0.802146  1.072711  0.513634\n",
       "2019-09-26  0.488902 -0.198709  0.082764  0.774385\n",
       "2019-09-27 -0.058485 -1.145670  0.521298  0.618269\n",
       "2019-09-28  1.739448  0.479271 -0.928745 -0.118071\n",
       "2019-09-29 -2.397474  0.711838  0.866692  0.606681"
      ]
     },
     "execution_count": 41,
     "metadata": {},
     "output_type": "execute_result"
    }
   ],
   "source": [
    "df.sort_index(axis=1,ascending=True) #axis=0-for row & 1 is for column"
   ]
  },
  {
   "cell_type": "code",
   "execution_count": 42,
   "metadata": {},
   "outputs": [],
   "source": [
    "data=pd.read_csv('sdata.csv',names=('Name','Age','Salary'))"
   ]
  },
  {
   "cell_type": "code",
   "execution_count": 47,
   "metadata": {},
   "outputs": [
    {
     "name": "stdout",
     "output_type": "stream",
     "text": [
      "    0   1   2\n",
      "0   1   2   3\n",
      "1  22  12  34\n",
      "2  11  45  65\n"
     ]
    }
   ],
   "source": [
    "dff=pd.DataFrame([[1,2,3],[22,12,34],[11,45,65]])\n",
    "print(dff)"
   ]
  },
  {
   "cell_type": "code",
   "execution_count": 55,
   "metadata": {},
   "outputs": [
    {
     "data": {
      "text/html": [
       "<div>\n",
       "<style scoped>\n",
       "    .dataframe tbody tr th:only-of-type {\n",
       "        vertical-align: middle;\n",
       "    }\n",
       "\n",
       "    .dataframe tbody tr th {\n",
       "        vertical-align: top;\n",
       "    }\n",
       "\n",
       "    .dataframe thead th {\n",
       "        text-align: right;\n",
       "    }\n",
       "</style>\n",
       "<table border=\"1\" class=\"dataframe\">\n",
       "  <thead>\n",
       "    <tr style=\"text-align: right;\">\n",
       "      <th></th>\n",
       "      <th>0</th>\n",
       "      <th>1</th>\n",
       "      <th>2</th>\n",
       "    </tr>\n",
       "  </thead>\n",
       "  <tbody>\n",
       "    <tr>\n",
       "      <td>0</td>\n",
       "      <td>1</td>\n",
       "      <td>2</td>\n",
       "      <td>3</td>\n",
       "    </tr>\n",
       "    <tr>\n",
       "      <td>1</td>\n",
       "      <td>22</td>\n",
       "      <td>12</td>\n",
       "      <td>34</td>\n",
       "    </tr>\n",
       "    <tr>\n",
       "      <td>2</td>\n",
       "      <td>11</td>\n",
       "      <td>45</td>\n",
       "      <td>65</td>\n",
       "    </tr>\n",
       "  </tbody>\n",
       "</table>\n",
       "</div>"
      ],
      "text/plain": [
       "    0   1   2\n",
       "0   1   2   3\n",
       "1  22  12  34\n",
       "2  11  45  65"
      ]
     },
     "execution_count": 55,
     "metadata": {},
     "output_type": "execute_result"
    }
   ],
   "source": [
    "dff.sort_index(axis=1, ascending=True)"
   ]
  },
  {
   "cell_type": "code",
   "execution_count": 60,
   "metadata": {},
   "outputs": [
    {
     "data": {
      "text/html": [
       "<div>\n",
       "<style scoped>\n",
       "    .dataframe tbody tr th:only-of-type {\n",
       "        vertical-align: middle;\n",
       "    }\n",
       "\n",
       "    .dataframe tbody tr th {\n",
       "        vertical-align: top;\n",
       "    }\n",
       "\n",
       "    .dataframe thead th {\n",
       "        text-align: right;\n",
       "    }\n",
       "</style>\n",
       "<table border=\"1\" class=\"dataframe\">\n",
       "  <thead>\n",
       "    <tr style=\"text-align: right;\">\n",
       "      <th></th>\n",
       "      <th>A</th>\n",
       "      <th>B</th>\n",
       "      <th>C</th>\n",
       "      <th>D</th>\n",
       "    </tr>\n",
       "  </thead>\n",
       "  <tbody>\n",
       "    <tr>\n",
       "      <td>2019-09-24</td>\n",
       "      <td>1.000000</td>\n",
       "      <td>1.000000</td>\n",
       "      <td>1.000000</td>\n",
       "      <td>1.000000</td>\n",
       "    </tr>\n",
       "    <tr>\n",
       "      <td>2019-09-25</td>\n",
       "      <td>-0.424143</td>\n",
       "      <td>0.802146</td>\n",
       "      <td>1.072711</td>\n",
       "      <td>0.513634</td>\n",
       "    </tr>\n",
       "    <tr>\n",
       "      <td>2019-09-26</td>\n",
       "      <td>0.488902</td>\n",
       "      <td>-0.198709</td>\n",
       "      <td>0.082764</td>\n",
       "      <td>0.774385</td>\n",
       "    </tr>\n",
       "    <tr>\n",
       "      <td>2019-09-27</td>\n",
       "      <td>-0.058485</td>\n",
       "      <td>-1.145670</td>\n",
       "      <td>0.521298</td>\n",
       "      <td>0.618269</td>\n",
       "    </tr>\n",
       "    <tr>\n",
       "      <td>2019-09-28</td>\n",
       "      <td>1.739448</td>\n",
       "      <td>0.479271</td>\n",
       "      <td>-0.928745</td>\n",
       "      <td>-0.118071</td>\n",
       "    </tr>\n",
       "    <tr>\n",
       "      <td>2019-09-29</td>\n",
       "      <td>-2.397474</td>\n",
       "      <td>0.711838</td>\n",
       "      <td>0.866692</td>\n",
       "      <td>0.606681</td>\n",
       "    </tr>\n",
       "  </tbody>\n",
       "</table>\n",
       "</div>"
      ],
      "text/plain": [
       "                   A         B         C         D\n",
       "2019-09-24  1.000000  1.000000  1.000000  1.000000\n",
       "2019-09-25 -0.424143  0.802146  1.072711  0.513634\n",
       "2019-09-26  0.488902 -0.198709  0.082764  0.774385\n",
       "2019-09-27 -0.058485 -1.145670  0.521298  0.618269\n",
       "2019-09-28  1.739448  0.479271 -0.928745 -0.118071\n",
       "2019-09-29 -2.397474  0.711838  0.866692  0.606681"
      ]
     },
     "execution_count": 60,
     "metadata": {},
     "output_type": "execute_result"
    }
   ],
   "source": [
    "df.at[dates[0],'C']=1\n",
    "df"
   ]
  },
  {
   "cell_type": "code",
   "execution_count": 64,
   "metadata": {},
   "outputs": [
    {
     "data": {
      "text/html": [
       "<div>\n",
       "<style scoped>\n",
       "    .dataframe tbody tr th:only-of-type {\n",
       "        vertical-align: middle;\n",
       "    }\n",
       "\n",
       "    .dataframe tbody tr th {\n",
       "        vertical-align: top;\n",
       "    }\n",
       "\n",
       "    .dataframe thead th {\n",
       "        text-align: right;\n",
       "    }\n",
       "</style>\n",
       "<table border=\"1\" class=\"dataframe\">\n",
       "  <thead>\n",
       "    <tr style=\"text-align: right;\">\n",
       "      <th></th>\n",
       "      <th>A</th>\n",
       "      <th>B</th>\n",
       "      <th>C</th>\n",
       "      <th>D</th>\n",
       "    </tr>\n",
       "  </thead>\n",
       "  <tbody>\n",
       "    <tr>\n",
       "      <td>2019-09-24</td>\n",
       "      <td>1.000000</td>\n",
       "      <td>7.000000</td>\n",
       "      <td>1.000000</td>\n",
       "      <td>1.000000</td>\n",
       "    </tr>\n",
       "    <tr>\n",
       "      <td>2019-09-25</td>\n",
       "      <td>-0.424143</td>\n",
       "      <td>0.802146</td>\n",
       "      <td>1.072711</td>\n",
       "      <td>0.513634</td>\n",
       "    </tr>\n",
       "    <tr>\n",
       "      <td>2019-09-26</td>\n",
       "      <td>0.488902</td>\n",
       "      <td>-0.198709</td>\n",
       "      <td>0.082764</td>\n",
       "      <td>0.774385</td>\n",
       "    </tr>\n",
       "    <tr>\n",
       "      <td>2019-09-27</td>\n",
       "      <td>-0.058485</td>\n",
       "      <td>-1.145670</td>\n",
       "      <td>0.521298</td>\n",
       "      <td>0.618269</td>\n",
       "    </tr>\n",
       "    <tr>\n",
       "      <td>2019-09-28</td>\n",
       "      <td>1.739448</td>\n",
       "      <td>0.479271</td>\n",
       "      <td>-0.928745</td>\n",
       "      <td>-0.118071</td>\n",
       "    </tr>\n",
       "    <tr>\n",
       "      <td>2019-09-29</td>\n",
       "      <td>-2.397474</td>\n",
       "      <td>0.711838</td>\n",
       "      <td>0.866692</td>\n",
       "      <td>0.606681</td>\n",
       "    </tr>\n",
       "  </tbody>\n",
       "</table>\n",
       "</div>"
      ],
      "text/plain": [
       "                   A         B         C         D\n",
       "2019-09-24  1.000000  7.000000  1.000000  1.000000\n",
       "2019-09-25 -0.424143  0.802146  1.072711  0.513634\n",
       "2019-09-26  0.488902 -0.198709  0.082764  0.774385\n",
       "2019-09-27 -0.058485 -1.145670  0.521298  0.618269\n",
       "2019-09-28  1.739448  0.479271 -0.928745 -0.118071\n",
       "2019-09-29 -2.397474  0.711838  0.866692  0.606681"
      ]
     },
     "execution_count": 64,
     "metadata": {},
     "output_type": "execute_result"
    }
   ],
   "source": [
    "df.iat[0,1]=7\n",
    "df"
   ]
  },
  {
   "cell_type": "code",
   "execution_count": 65,
   "metadata": {},
   "outputs": [],
   "source": [
    "df.to_csv('sss.csv')"
   ]
  },
  {
   "cell_type": "code",
   "execution_count": 75,
   "metadata": {},
   "outputs": [],
   "source": [
    "df3=pd.DataFrame(np.random.randn(4,4),index=dates,columns=('A','B','C','D'))"
   ]
  },
  {
   "cell_type": "code",
   "execution_count": 76,
   "metadata": {},
   "outputs": [
    {
     "data": {
      "text/html": [
       "<div>\n",
       "<style scoped>\n",
       "    .dataframe tbody tr th:only-of-type {\n",
       "        vertical-align: middle;\n",
       "    }\n",
       "\n",
       "    .dataframe tbody tr th {\n",
       "        vertical-align: top;\n",
       "    }\n",
       "\n",
       "    .dataframe thead th {\n",
       "        text-align: right;\n",
       "    }\n",
       "</style>\n",
       "<table border=\"1\" class=\"dataframe\">\n",
       "  <thead>\n",
       "    <tr style=\"text-align: right;\">\n",
       "      <th></th>\n",
       "      <th>A</th>\n",
       "      <th>B</th>\n",
       "      <th>C</th>\n",
       "      <th>D</th>\n",
       "    </tr>\n",
       "  </thead>\n",
       "  <tbody>\n",
       "    <tr>\n",
       "      <td>2019-09-24</td>\n",
       "      <td>-1.302508</td>\n",
       "      <td>1.908384</td>\n",
       "      <td>-1.277460</td>\n",
       "      <td>1.334192</td>\n",
       "    </tr>\n",
       "    <tr>\n",
       "      <td>2019-09-25</td>\n",
       "      <td>1.656753</td>\n",
       "      <td>-0.831063</td>\n",
       "      <td>0.759306</td>\n",
       "      <td>0.401636</td>\n",
       "    </tr>\n",
       "    <tr>\n",
       "      <td>2019-09-26</td>\n",
       "      <td>-0.365426</td>\n",
       "      <td>0.441708</td>\n",
       "      <td>-0.034603</td>\n",
       "      <td>0.294559</td>\n",
       "    </tr>\n",
       "    <tr>\n",
       "      <td>2019-09-27</td>\n",
       "      <td>-1.269467</td>\n",
       "      <td>0.244450</td>\n",
       "      <td>1.340937</td>\n",
       "      <td>1.702440</td>\n",
       "    </tr>\n",
       "  </tbody>\n",
       "</table>\n",
       "</div>"
      ],
      "text/plain": [
       "                   A         B         C         D\n",
       "2019-09-24 -1.302508  1.908384 -1.277460  1.334192\n",
       "2019-09-25  1.656753 -0.831063  0.759306  0.401636\n",
       "2019-09-26 -0.365426  0.441708 -0.034603  0.294559\n",
       "2019-09-27 -1.269467  0.244450  1.340937  1.702440"
      ]
     },
     "execution_count": 76,
     "metadata": {},
     "output_type": "execute_result"
    }
   ],
   "source": [
    "df3"
   ]
  },
  {
   "cell_type": "code",
   "execution_count": 78,
   "metadata": {},
   "outputs": [],
   "source": [
    "df3.to_csv('Matrix1.csv')"
   ]
  }
 ],
 "metadata": {
  "kernelspec": {
   "display_name": "Python 3",
   "language": "python",
   "name": "python3"
  },
  "language_info": {
   "codemirror_mode": {
    "name": "ipython",
    "version": 3
   },
   "file_extension": ".py",
   "mimetype": "text/x-python",
   "name": "python",
   "nbconvert_exporter": "python",
   "pygments_lexer": "ipython3",
   "version": "3.7.0"
  }
 },
 "nbformat": 4,
 "nbformat_minor": 2
}
