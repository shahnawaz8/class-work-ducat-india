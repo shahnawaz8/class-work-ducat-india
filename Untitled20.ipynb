{
 "cells": [
  {
   "cell_type": "code",
   "execution_count": null,
   "metadata": {},
   "outputs": [],
   "source": [
    "from tkinter import *"
   ]
  },
  {
   "cell_type": "code",
   "execution_count": null,
   "metadata": {},
   "outputs": [],
   "source": [
    "from tkinter import messagebox as msg"
   ]
  },
  {
   "cell_type": "code",
   "execution_count": null,
   "metadata": {},
   "outputs": [],
   "source": [
    "from tkinter import *\n",
    "from tk\n",
    "\n",
    "class Knn(Frame):\n",
    "    def __init__(self,master):\n",
    "        super().__init__(master)\n",
    "        self.lbl1=Label(self,text='Wieght',font=('lucida 10 bold'))\n",
    "        self.lbl1.grid(row=1,column=1)\n",
    "        \n",
    "        self.lbl2=Label(self,text='Height',font=('lucida 10 bold'))\n",
    "        self.lbl2.grid(row=2,column=1)\n",
    "        \n",
    "        self.txt1=Entry(self,font=('arial 10 italic'))\n",
    "        self.txt1.grid(row=1,column=2)\n",
    "        \n",
    "        self.txt1=Entry(self,font=('arial 10 italic'))\n",
    "        self.txt1.grid(row=2,column=2)\n",
    "        \n",
    "        self.btn=Button(self,text='Predict',command=self.show)\n",
    "        self.btn.grid(row=3,column=1,columnspan=2)\n",
    "        self.pack()\n",
    "    def show(self):\n",
    "        weight=float(self.txt1.get())\n",
    "        height=float(self.txt2.get())\n",
    "        testdata=[[weight,height]]\n",
    "        check=pd.DataFrame(testdata)\n",
    "        dis=kobj.predict(check)\n",
    "        msg.showinfo('The Human Is:-',dis)\n",
    "        \n",
    "root=Tk()\n",
    "obj=Knn(root)\n",
    "root.geometry('200x250')\n",
    "root.mainloop()"
   ]
  },
  {
   "cell_type": "code",
   "execution_count": null,
   "metadata": {},
   "outputs": [],
   "source": []
  }
 ],
 "metadata": {
  "kernelspec": {
   "display_name": "Python 3",
   "language": "python",
   "name": "python3"
  },
  "language_info": {
   "codemirror_mode": {
    "name": "ipython",
    "version": 3
   },
   "file_extension": ".py",
   "mimetype": "text/x-python",
   "name": "python",
   "nbconvert_exporter": "python",
   "pygments_lexer": "ipython3",
   "version": "3.7.0"
  }
 },
 "nbformat": 4,
 "nbformat_minor": 2
}
