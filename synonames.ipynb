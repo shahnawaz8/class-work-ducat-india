{
 "cells": [
  {
   "cell_type": "code",
   "execution_count": 2,
   "metadata": {},
   "outputs": [],
   "source": [
    "from nltk.corpus import wordnet"
   ]
  },
  {
   "cell_type": "code",
   "execution_count": 7,
   "metadata": {},
   "outputs": [
    {
     "name": "stdout",
     "output_type": "stream",
     "text": [
      "moral excellence or admirableness\n",
      "['weigh the good against the bad', 'among the highest goods of all are happiness and self-realization']\n"
     ]
    }
   ],
   "source": [
    "syn = wordnet.synsets('good')\n",
    "#print(syn)\n",
    "print(syn[1].definition())\n",
    "print(syn[2].examples())"
   ]
  },
  {
   "cell_type": "code",
   "execution_count": 19,
   "metadata": {},
   "outputs": [
    {
     "name": "stdout",
     "output_type": "stream",
     "text": [
      "['blue', 'gamy', 'gamey', 'juicy', 'naughty', 'racy', 'risque', 'spicy', 'naughty']\n"
     ]
    }
   ],
   "source": [
    "syn1=[]\n",
    "for syn in wordnet.synsets('naughty'):\n",
    "    for lemma in syn.lemmas():\n",
    "        #print(lemma)\n",
    "        syn1.append(lemma.name())\n",
    "print(syn1)"
   ]
  },
  {
   "cell_type": "code",
   "execution_count": null,
   "metadata": {},
   "outputs": [],
   "source": [
    "# Antonyms"
   ]
  },
  {
   "cell_type": "code",
   "execution_count": 22,
   "metadata": {},
   "outputs": [
    {
     "name": "stdout",
     "output_type": "stream",
     "text": [
      "['affirmative', 'neutral', 'affirmative', 'positive', 'positive']\n"
     ]
    }
   ],
   "source": [
    "\n",
    "\n",
    "\n",
    "ant1=[]\n",
    "for syn in wordnet.synsets(\"negative\"):\n",
    "    for l in syn.lemmas():\n",
    "        if l.antonyms():\n",
    "            ant1.append(l.antonyms()[0].name())\n",
    "print(ant1)"
   ]
  },
  {
   "cell_type": "code",
   "execution_count": null,
   "metadata": {},
   "outputs": [],
   "source": []
  },
  {
   "cell_type": "code",
   "execution_count": null,
   "metadata": {},
   "outputs": [],
   "source": [
    "from gtts import gTTS\n",
    "import os "
   ]
  },
  {
   "cell_type": "code",
   "execution_count": null,
   "metadata": {},
   "outputs": [],
   "source": [
    "test=input('Enter text')\n",
    "language='en'\n",
    "obj=gTTS(text=text,lang=language,slow=False)\n",
    "obj.save('wel.mp3')\n",
    "#os.system(\"mpg321 wel.mp3\")"
   ]
  }
 ],
 "metadata": {
  "kernelspec": {
   "display_name": "Python 3",
   "language": "python",
   "name": "python3"
  },
  "language_info": {
   "codemirror_mode": {
    "name": "ipython",
    "version": 3
   },
   "file_extension": ".py",
   "mimetype": "text/x-python",
   "name": "python",
   "nbconvert_exporter": "python",
   "pygments_lexer": "ipython3",
   "version": "3.7.0"
  }
 },
 "nbformat": 4,
 "nbformat_minor": 2
}
