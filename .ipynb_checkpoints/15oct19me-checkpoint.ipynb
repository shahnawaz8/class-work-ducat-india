{
 "cells": [
  {
   "cell_type": "code",
   "execution_count": null,
   "metadata": {},
   "outputs": [],
   "source": [
    "import nltk.classify.util\n",
    "from nltk.classify import NaiveBayesClassifier\n",
    "from nltk.corpus import names\n",
    "\n",
    "def gender_feature(word):\n",
    "    return {'last_latter': word[-1]}\n",
    "names = ([(name,'male') for name in names.words ('male.txt')] + [(name, 'female') for name in names.words('female.txt')])\n",
    "featuresets = [(gender_feature(n),g) for (n,g) in names]\n",
    "train_set = featuresets\n",
    "classifier = nltk.NaiveBayesClassifier.train(train_set)\n",
    "\n",
    "name = input('name')\n",
    "print(classifier.classify(gender_feature(name)))"
   ]
  },
  {
   "cell_type": "code",
   "execution_count": null,
   "metadata": {},
   "outputs": [],
   "source": [
    "def word_feats(words):\n",
    "    return dict([words,False])\n",
    "\n",
    "positive_vacab = ['awesome','outstanding']\n",
    "\n",
    "negative_vacab = ['bad','useless','hate',':(','not']\n",
    "\n",
    "neutral_vacab = ['movie','actor','did','know','sound']\n",
    "\n",
    "positive_features = [(word_feats(pos),'pos') for pos in positive_vocab]\n",
    "\n",
    "negative_features = [(word_feats(neg),'neg') for neg in negative_vocab]\n",
    "\n",
    "neutral_features = [(word_feats(nue),'nue') for nue in nutral_vocab]\n",
    "\n",
    "train_set = negative_features + pos\n",
    "\n",
    "nb = NaiveBayesClassifier.train(train_set)\n",
    "\n",
    "#predict\n",
    "\n",
    "neg = 0\n",
    "\n",
    "pos = 0\n",
    "\n",
    "nue = 0\n",
    "\n",
    "sentance = \"Awesome movie Sound in not good but still good in feature\"\n",
    "\n",
    "sentance = sentance.lower()\n",
    "word = sentance.split()\n",
    "\n",
    "for word in words:\n",
    "    classResult = nb.classify(word_feats)\n",
    "\n",
    "\n",
    "\n",
    "#print(words)\n",
    "#print(pos)\n",
    "print('Nue : ' +str(float(nue)/len(words)))\n",
    "print('positive : ' +str(float(pos)/len(words)))\n",
    "print('Negative : ' +str(float(neg)/len(words)))\n",
    "\n",
    "if neg>pos and neg>nue:\n",
    "    print('Not good')\n",
    "elif pos>neg and pos>nue:\n",
    "    print('Good')\n",
    "else:\n",
    "    print('Average')\n",
    "\n",
    "    \n",
    "    "
   ]
  }
 ],
 "metadata": {
  "kernelspec": {
   "display_name": "Python 3",
   "language": "python",
   "name": "python3"
  },
  "language_info": {
   "codemirror_mode": {
    "name": "ipython",
    "version": 3
   },
   "file_extension": ".py",
   "mimetype": "text/x-python",
   "name": "python",
   "nbconvert_exporter": "python",
   "pygments_lexer": "ipython3",
   "version": "3.7.0"
  }
 },
 "nbformat": 4,
 "nbformat_minor": 2
}
